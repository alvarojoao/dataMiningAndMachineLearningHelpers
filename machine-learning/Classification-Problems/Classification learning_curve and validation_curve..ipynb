{
 "cells": [
  {
   "cell_type": "code",
   "execution_count": 1,
   "metadata": {
    "collapsed": true
   },
   "outputs": [],
   "source": [
    "import pandas as pd\n",
    "import numpy as np\n",
    "import csv as csv\n",
    "import math\n",
    "import matplotlib.pyplot as plt\n",
    "from sklearn.metrics import classification_report, accuracy_score\n",
    "from sklearn.cross_validation import train_test_split\n",
    "import time\n",
    "import time\n",
    "from datetime import date\n",
    "import datetime\n",
    "\n",
    "%matplotlib inline"
   ]
  },
  {
   "cell_type": "markdown",
   "metadata": {},
   "source": [
    "#### Concatenate the two training DataFrames"
   ]
  },
  {
   "cell_type": "code",
   "execution_count": 2,
   "metadata": {
    "collapsed": false
   },
   "outputs": [
    {
     "data": {
      "text/plain": [
       "(486048, 54)"
      ]
     },
     "execution_count": 2,
     "metadata": {},
     "output_type": "execute_result"
    }
   ],
   "source": [
    "train_df1 = pd.read_csv('../hackerrank-predict-email-opens-dataset/training_dataset.csv/training_dataset.csv', header=0)  \n",
    "train_df2 = pd.read_csv('../hackerrank-predict-email-opens-dataset/training_dataset.csv/training_dataset_complement.csv', header=0)  \n",
    "train_df = pd.concat([train_df1,train_df2])\n",
    "train_df.shape"
   ]
  },
  {
   "cell_type": "markdown",
   "metadata": {},
   "source": [
    "#### Dropping few columns"
   ]
  },
  {
   "cell_type": "code",
   "execution_count": 3,
   "metadata": {
    "collapsed": false
   },
   "outputs": [
    {
     "data": {
      "text/html": [
       "<div>\n",
       "<table border=\"1\" class=\"dataframe\">\n",
       "  <thead>\n",
       "    <tr style=\"text-align: right;\">\n",
       "      <th></th>\n",
       "      <th>last_online</th>\n",
       "      <th>contest_login_count</th>\n",
       "      <th>contest_login_count_1_days</th>\n",
       "      <th>contest_login_count_30_days</th>\n",
       "      <th>contest_login_count_365_days</th>\n",
       "      <th>contest_login_count_7_days</th>\n",
       "      <th>contest_participation_count</th>\n",
       "      <th>contest_participation_count_1_days</th>\n",
       "      <th>contest_participation_count_30_days</th>\n",
       "      <th>contest_participation_count_365_days</th>\n",
       "      <th>...</th>\n",
       "      <th>submissions_count_contest</th>\n",
       "      <th>submissions_count_contest_1_days</th>\n",
       "      <th>submissions_count_contest_30_days</th>\n",
       "      <th>submissions_count_contest_365_days</th>\n",
       "      <th>submissions_count_contest_7_days</th>\n",
       "      <th>submissions_count_master</th>\n",
       "      <th>submissions_count_master_1_days</th>\n",
       "      <th>submissions_count_master_30_days</th>\n",
       "      <th>submissions_count_master_365_days</th>\n",
       "      <th>submissions_count_master_7_days</th>\n",
       "    </tr>\n",
       "  </thead>\n",
       "  <tbody>\n",
       "    <tr>\n",
       "      <th>0</th>\n",
       "      <td>1.459520e+09</td>\n",
       "      <td>1</td>\n",
       "      <td>0</td>\n",
       "      <td>0</td>\n",
       "      <td>1</td>\n",
       "      <td>0</td>\n",
       "      <td>1</td>\n",
       "      <td>0</td>\n",
       "      <td>0</td>\n",
       "      <td>1</td>\n",
       "      <td>...</td>\n",
       "      <td>0</td>\n",
       "      <td>0</td>\n",
       "      <td>0</td>\n",
       "      <td>0</td>\n",
       "      <td>0</td>\n",
       "      <td>13</td>\n",
       "      <td>0</td>\n",
       "      <td>0</td>\n",
       "      <td>13</td>\n",
       "      <td>0</td>\n",
       "    </tr>\n",
       "    <tr>\n",
       "      <th>1</th>\n",
       "      <td>1.461210e+09</td>\n",
       "      <td>3</td>\n",
       "      <td>0</td>\n",
       "      <td>1</td>\n",
       "      <td>3</td>\n",
       "      <td>0</td>\n",
       "      <td>3</td>\n",
       "      <td>0</td>\n",
       "      <td>1</td>\n",
       "      <td>3</td>\n",
       "      <td>...</td>\n",
       "      <td>16</td>\n",
       "      <td>0</td>\n",
       "      <td>3</td>\n",
       "      <td>16</td>\n",
       "      <td>0</td>\n",
       "      <td>83</td>\n",
       "      <td>0</td>\n",
       "      <td>43</td>\n",
       "      <td>83</td>\n",
       "      <td>4</td>\n",
       "    </tr>\n",
       "    <tr>\n",
       "      <th>2</th>\n",
       "      <td>1.463411e+09</td>\n",
       "      <td>3</td>\n",
       "      <td>0</td>\n",
       "      <td>0</td>\n",
       "      <td>3</td>\n",
       "      <td>0</td>\n",
       "      <td>3</td>\n",
       "      <td>0</td>\n",
       "      <td>0</td>\n",
       "      <td>3</td>\n",
       "      <td>...</td>\n",
       "      <td>0</td>\n",
       "      <td>0</td>\n",
       "      <td>0</td>\n",
       "      <td>0</td>\n",
       "      <td>0</td>\n",
       "      <td>16</td>\n",
       "      <td>0</td>\n",
       "      <td>3</td>\n",
       "      <td>16</td>\n",
       "      <td>0</td>\n",
       "    </tr>\n",
       "    <tr>\n",
       "      <th>3</th>\n",
       "      <td>1.462768e+09</td>\n",
       "      <td>3</td>\n",
       "      <td>0</td>\n",
       "      <td>0</td>\n",
       "      <td>3</td>\n",
       "      <td>0</td>\n",
       "      <td>3</td>\n",
       "      <td>0</td>\n",
       "      <td>0</td>\n",
       "      <td>3</td>\n",
       "      <td>...</td>\n",
       "      <td>16</td>\n",
       "      <td>0</td>\n",
       "      <td>0</td>\n",
       "      <td>16</td>\n",
       "      <td>0</td>\n",
       "      <td>85</td>\n",
       "      <td>0</td>\n",
       "      <td>9</td>\n",
       "      <td>85</td>\n",
       "      <td>0</td>\n",
       "    </tr>\n",
       "    <tr>\n",
       "      <th>4</th>\n",
       "      <td>1.461248e+09</td>\n",
       "      <td>5</td>\n",
       "      <td>0</td>\n",
       "      <td>0</td>\n",
       "      <td>5</td>\n",
       "      <td>0</td>\n",
       "      <td>13</td>\n",
       "      <td>0</td>\n",
       "      <td>0</td>\n",
       "      <td>13</td>\n",
       "      <td>...</td>\n",
       "      <td>17</td>\n",
       "      <td>0</td>\n",
       "      <td>1</td>\n",
       "      <td>17</td>\n",
       "      <td>0</td>\n",
       "      <td>43</td>\n",
       "      <td>0</td>\n",
       "      <td>0</td>\n",
       "      <td>43</td>\n",
       "      <td>0</td>\n",
       "    </tr>\n",
       "  </tbody>\n",
       "</table>\n",
       "<p>5 rows × 42 columns</p>\n",
       "</div>"
      ],
      "text/plain": [
       "    last_online  contest_login_count  contest_login_count_1_days  \\\n",
       "0  1.459520e+09                    1                           0   \n",
       "1  1.461210e+09                    3                           0   \n",
       "2  1.463411e+09                    3                           0   \n",
       "3  1.462768e+09                    3                           0   \n",
       "4  1.461248e+09                    5                           0   \n",
       "\n",
       "   contest_login_count_30_days  contest_login_count_365_days  \\\n",
       "0                            0                             1   \n",
       "1                            1                             3   \n",
       "2                            0                             3   \n",
       "3                            0                             3   \n",
       "4                            0                             5   \n",
       "\n",
       "   contest_login_count_7_days  contest_participation_count  \\\n",
       "0                           0                            1   \n",
       "1                           0                            3   \n",
       "2                           0                            3   \n",
       "3                           0                            3   \n",
       "4                           0                           13   \n",
       "\n",
       "   contest_participation_count_1_days  contest_participation_count_30_days  \\\n",
       "0                                   0                                    0   \n",
       "1                                   0                                    1   \n",
       "2                                   0                                    0   \n",
       "3                                   0                                    0   \n",
       "4                                   0                                    0   \n",
       "\n",
       "   contest_participation_count_365_days               ...                 \\\n",
       "0                                     1               ...                  \n",
       "1                                     3               ...                  \n",
       "2                                     3               ...                  \n",
       "3                                     3               ...                  \n",
       "4                                    13               ...                  \n",
       "\n",
       "   submissions_count_contest  submissions_count_contest_1_days  \\\n",
       "0                          0                                 0   \n",
       "1                         16                                 0   \n",
       "2                          0                                 0   \n",
       "3                         16                                 0   \n",
       "4                         17                                 0   \n",
       "\n",
       "   submissions_count_contest_30_days  submissions_count_contest_365_days  \\\n",
       "0                                  0                                   0   \n",
       "1                                  3                                  16   \n",
       "2                                  0                                   0   \n",
       "3                                  0                                  16   \n",
       "4                                  1                                  17   \n",
       "\n",
       "   submissions_count_contest_7_days submissions_count_master  \\\n",
       "0                                 0                       13   \n",
       "1                                 0                       83   \n",
       "2                                 0                       16   \n",
       "3                                 0                       85   \n",
       "4                                 0                       43   \n",
       "\n",
       "   submissions_count_master_1_days  submissions_count_master_30_days  \\\n",
       "0                                0                                 0   \n",
       "1                                0                                43   \n",
       "2                                0                                 3   \n",
       "3                                0                                 9   \n",
       "4                                0                                 0   \n",
       "\n",
       "   submissions_count_master_365_days  submissions_count_master_7_days  \n",
       "0                                 13                                0  \n",
       "1                                 83                                4  \n",
       "2                                 16                                0  \n",
       "3                                 85                                0  \n",
       "4                                 43                                0  \n",
       "\n",
       "[5 rows x 42 columns]"
      ]
     },
     "execution_count": 3,
     "metadata": {},
     "output_type": "execute_result"
    }
   ],
   "source": [
    "train_df = train_df.drop(['user_id','mail_id','mail_type','clicked','hacker_timezone',\n",
    "                          'mail_category','sent_time','unsubscribed',\n",
    "                          'open_time','click_time','unsubscribe_time','hacker_created_at'], axis=1) \n",
    "train_df.head()"
   ]
  },
  {
   "cell_type": "markdown",
   "metadata": {},
   "source": [
    "#### Converting Boolean to Int"
   ]
  },
  {
   "cell_type": "code",
   "execution_count": 4,
   "metadata": {
    "collapsed": false
   },
   "outputs": [
    {
     "data": {
      "text/plain": [
       "(486048, 42)"
      ]
     },
     "execution_count": 4,
     "metadata": {},
     "output_type": "execute_result"
    }
   ],
   "source": [
    "train_df['opened'] = train_df.opened.map({True:1,False:0}).astype(int)\n",
    "train_df['hacker_confirmation'] = train_df.hacker_confirmation.map({True:1,False:0}).astype(int)\n",
    "train_df.shape\n"
   ]
  },
  {
   "cell_type": "markdown",
   "metadata": {},
   "source": [
    "#### Dropping rows with NA or Null Values (last_online is the only attribute with NA or Null values)"
   ]
  },
  {
   "cell_type": "code",
   "execution_count": 5,
   "metadata": {
    "collapsed": false
   },
   "outputs": [
    {
     "data": {
      "text/plain": [
       "(485471, 42)"
      ]
     },
     "execution_count": 5,
     "metadata": {},
     "output_type": "execute_result"
    }
   ],
   "source": [
    "train_df = train_df.dropna(subset=['last_online'],axis=0)\n",
    "train_df.shape"
   ]
  },
  {
   "cell_type": "markdown",
   "metadata": {},
   "source": [
    "#### Sorting Columns to data constancy"
   ]
  },
  {
   "cell_type": "code",
   "execution_count": 6,
   "metadata": {
    "collapsed": false
   },
   "outputs": [
    {
     "data": {
      "text/plain": [
       "(485471, 42)"
      ]
     },
     "execution_count": 6,
     "metadata": {},
     "output_type": "execute_result"
    }
   ],
   "source": [
    "train_df = train_df.reindex_axis(sorted(train_df.columns), axis=1)\n",
    "train_df.shape"
   ]
  },
  {
   "cell_type": "markdown",
   "metadata": {},
   "source": [
    "#### Adding opened attribute to the first column of DataFrame"
   ]
  },
  {
   "cell_type": "code",
   "execution_count": 7,
   "metadata": {
    "collapsed": false
   },
   "outputs": [
    {
     "data": {
      "text/html": [
       "<div>\n",
       "<table border=\"1\" class=\"dataframe\">\n",
       "  <thead>\n",
       "    <tr style=\"text-align: right;\">\n",
       "      <th></th>\n",
       "      <th>opened</th>\n",
       "      <th>contest_login_count</th>\n",
       "      <th>contest_login_count_1_days</th>\n",
       "      <th>contest_login_count_30_days</th>\n",
       "      <th>contest_login_count_365_days</th>\n",
       "      <th>contest_login_count_7_days</th>\n",
       "      <th>contest_participation_count</th>\n",
       "      <th>contest_participation_count_1_days</th>\n",
       "      <th>contest_participation_count_30_days</th>\n",
       "      <th>contest_participation_count_365_days</th>\n",
       "      <th>...</th>\n",
       "      <th>submissions_count_contest</th>\n",
       "      <th>submissions_count_contest_1_days</th>\n",
       "      <th>submissions_count_contest_30_days</th>\n",
       "      <th>submissions_count_contest_365_days</th>\n",
       "      <th>submissions_count_contest_7_days</th>\n",
       "      <th>submissions_count_master</th>\n",
       "      <th>submissions_count_master_1_days</th>\n",
       "      <th>submissions_count_master_30_days</th>\n",
       "      <th>submissions_count_master_365_days</th>\n",
       "      <th>submissions_count_master_7_days</th>\n",
       "    </tr>\n",
       "  </thead>\n",
       "  <tbody>\n",
       "    <tr>\n",
       "      <th>0</th>\n",
       "      <td>1</td>\n",
       "      <td>1</td>\n",
       "      <td>0</td>\n",
       "      <td>0</td>\n",
       "      <td>1</td>\n",
       "      <td>0</td>\n",
       "      <td>1</td>\n",
       "      <td>0</td>\n",
       "      <td>0</td>\n",
       "      <td>1</td>\n",
       "      <td>...</td>\n",
       "      <td>0</td>\n",
       "      <td>0</td>\n",
       "      <td>0</td>\n",
       "      <td>0</td>\n",
       "      <td>0</td>\n",
       "      <td>13</td>\n",
       "      <td>0</td>\n",
       "      <td>0</td>\n",
       "      <td>13</td>\n",
       "      <td>0</td>\n",
       "    </tr>\n",
       "    <tr>\n",
       "      <th>1</th>\n",
       "      <td>0</td>\n",
       "      <td>3</td>\n",
       "      <td>0</td>\n",
       "      <td>1</td>\n",
       "      <td>3</td>\n",
       "      <td>0</td>\n",
       "      <td>3</td>\n",
       "      <td>0</td>\n",
       "      <td>1</td>\n",
       "      <td>3</td>\n",
       "      <td>...</td>\n",
       "      <td>16</td>\n",
       "      <td>0</td>\n",
       "      <td>3</td>\n",
       "      <td>16</td>\n",
       "      <td>0</td>\n",
       "      <td>83</td>\n",
       "      <td>0</td>\n",
       "      <td>43</td>\n",
       "      <td>83</td>\n",
       "      <td>4</td>\n",
       "    </tr>\n",
       "    <tr>\n",
       "      <th>2</th>\n",
       "      <td>0</td>\n",
       "      <td>3</td>\n",
       "      <td>0</td>\n",
       "      <td>0</td>\n",
       "      <td>3</td>\n",
       "      <td>0</td>\n",
       "      <td>3</td>\n",
       "      <td>0</td>\n",
       "      <td>0</td>\n",
       "      <td>3</td>\n",
       "      <td>...</td>\n",
       "      <td>0</td>\n",
       "      <td>0</td>\n",
       "      <td>0</td>\n",
       "      <td>0</td>\n",
       "      <td>0</td>\n",
       "      <td>16</td>\n",
       "      <td>0</td>\n",
       "      <td>3</td>\n",
       "      <td>16</td>\n",
       "      <td>0</td>\n",
       "    </tr>\n",
       "    <tr>\n",
       "      <th>3</th>\n",
       "      <td>0</td>\n",
       "      <td>3</td>\n",
       "      <td>0</td>\n",
       "      <td>0</td>\n",
       "      <td>3</td>\n",
       "      <td>0</td>\n",
       "      <td>3</td>\n",
       "      <td>0</td>\n",
       "      <td>0</td>\n",
       "      <td>3</td>\n",
       "      <td>...</td>\n",
       "      <td>16</td>\n",
       "      <td>0</td>\n",
       "      <td>0</td>\n",
       "      <td>16</td>\n",
       "      <td>0</td>\n",
       "      <td>85</td>\n",
       "      <td>0</td>\n",
       "      <td>9</td>\n",
       "      <td>85</td>\n",
       "      <td>0</td>\n",
       "    </tr>\n",
       "    <tr>\n",
       "      <th>4</th>\n",
       "      <td>0</td>\n",
       "      <td>5</td>\n",
       "      <td>0</td>\n",
       "      <td>0</td>\n",
       "      <td>5</td>\n",
       "      <td>0</td>\n",
       "      <td>13</td>\n",
       "      <td>0</td>\n",
       "      <td>0</td>\n",
       "      <td>13</td>\n",
       "      <td>...</td>\n",
       "      <td>17</td>\n",
       "      <td>0</td>\n",
       "      <td>1</td>\n",
       "      <td>17</td>\n",
       "      <td>0</td>\n",
       "      <td>43</td>\n",
       "      <td>0</td>\n",
       "      <td>0</td>\n",
       "      <td>43</td>\n",
       "      <td>0</td>\n",
       "    </tr>\n",
       "  </tbody>\n",
       "</table>\n",
       "<p>5 rows × 42 columns</p>\n",
       "</div>"
      ],
      "text/plain": [
       "   opened  contest_login_count  contest_login_count_1_days  \\\n",
       "0       1                    1                           0   \n",
       "1       0                    3                           0   \n",
       "2       0                    3                           0   \n",
       "3       0                    3                           0   \n",
       "4       0                    5                           0   \n",
       "\n",
       "   contest_login_count_30_days  contest_login_count_365_days  \\\n",
       "0                            0                             1   \n",
       "1                            1                             3   \n",
       "2                            0                             3   \n",
       "3                            0                             3   \n",
       "4                            0                             5   \n",
       "\n",
       "   contest_login_count_7_days  contest_participation_count  \\\n",
       "0                           0                            1   \n",
       "1                           0                            3   \n",
       "2                           0                            3   \n",
       "3                           0                            3   \n",
       "4                           0                           13   \n",
       "\n",
       "   contest_participation_count_1_days  contest_participation_count_30_days  \\\n",
       "0                                   0                                    0   \n",
       "1                                   0                                    1   \n",
       "2                                   0                                    0   \n",
       "3                                   0                                    0   \n",
       "4                                   0                                    0   \n",
       "\n",
       "   contest_participation_count_365_days               ...                 \\\n",
       "0                                     1               ...                  \n",
       "1                                     3               ...                  \n",
       "2                                     3               ...                  \n",
       "3                                     3               ...                  \n",
       "4                                    13               ...                  \n",
       "\n",
       "   submissions_count_contest  submissions_count_contest_1_days  \\\n",
       "0                          0                                 0   \n",
       "1                         16                                 0   \n",
       "2                          0                                 0   \n",
       "3                         16                                 0   \n",
       "4                         17                                 0   \n",
       "\n",
       "   submissions_count_contest_30_days  submissions_count_contest_365_days  \\\n",
       "0                                  0                                   0   \n",
       "1                                  3                                  16   \n",
       "2                                  0                                   0   \n",
       "3                                  0                                  16   \n",
       "4                                  1                                  17   \n",
       "\n",
       "   submissions_count_contest_7_days  submissions_count_master  \\\n",
       "0                                 0                        13   \n",
       "1                                 0                        83   \n",
       "2                                 0                        16   \n",
       "3                                 0                        85   \n",
       "4                                 0                        43   \n",
       "\n",
       "   submissions_count_master_1_days  submissions_count_master_30_days  \\\n",
       "0                                0                                 0   \n",
       "1                                0                                43   \n",
       "2                                0                                 3   \n",
       "3                                0                                 9   \n",
       "4                                0                                 0   \n",
       "\n",
       "   submissions_count_master_365_days  submissions_count_master_7_days  \n",
       "0                                 13                                0  \n",
       "1                                 83                                4  \n",
       "2                                 16                                0  \n",
       "3                                 85                                0  \n",
       "4                                 43                                0  \n",
       "\n",
       "[5 rows x 42 columns]"
      ]
     },
     "execution_count": 7,
     "metadata": {},
     "output_type": "execute_result"
    }
   ],
   "source": [
    "train_df = train_df.reindex_axis(['opened'] + list([col for col in train_df.columns if col != 'opened']), axis=1)\n",
    "train_df.head()"
   ]
  },
  {
   "cell_type": "markdown",
   "metadata": {},
   "source": [
    "#### Check for NA values"
   ]
  },
  {
   "cell_type": "code",
   "execution_count": 8,
   "metadata": {
    "collapsed": false
   },
   "outputs": [
    {
     "name": "stdout",
     "output_type": "stream",
     "text": [
      "No NA found\n"
     ]
    }
   ],
   "source": [
    "hasany = False\n",
    "for cl in train_df.columns.values:\n",
    "    hasNa = train_df[cl].isnull().sum() > 0\n",
    "    if hasNa:\n",
    "        hasany = True\n",
    "        print cl,train_df[cl].isnull().sum()\n",
    "if not hasany:\n",
    "    print 'No NA found'\n",
    "    "
   ]
  },
  {
   "cell_type": "markdown",
   "metadata": {},
   "source": [
    "#### Check data types for your model"
   ]
  },
  {
   "cell_type": "code",
   "execution_count": 9,
   "metadata": {
    "collapsed": false
   },
   "outputs": [
    {
     "name": "stdout",
     "output_type": "stream",
     "text": [
      "opened int32\n",
      "contest_login_count int64\n",
      "contest_login_count_1_days int64\n",
      "contest_login_count_30_days int64\n",
      "contest_login_count_365_days int64\n",
      "contest_login_count_7_days int64\n",
      "contest_participation_count int64\n",
      "contest_participation_count_1_days int64\n",
      "contest_participation_count_30_days int64\n",
      "contest_participation_count_365_days int64\n",
      "contest_participation_count_7_days int64\n",
      "forum_comments_count int64\n",
      "forum_count int64\n",
      "forum_expert_count int64\n",
      "forum_questions_count int64\n",
      "hacker_confirmation int32\n",
      "ipn_count int64\n",
      "ipn_count_1_days int64\n",
      "ipn_count_30_days int64\n",
      "ipn_count_365_days int64\n",
      "ipn_count_7_days int64\n",
      "ipn_read int64\n",
      "ipn_read_1_days int64\n",
      "ipn_read_30_days int64\n",
      "ipn_read_365_days int64\n",
      "ipn_read_7_days int64\n",
      "last_online float64\n",
      "submissions_count int64\n",
      "submissions_count_1_days int64\n",
      "submissions_count_30_days int64\n",
      "submissions_count_365_days int64\n",
      "submissions_count_7_days int64\n",
      "submissions_count_contest int64\n",
      "submissions_count_contest_1_days int64\n",
      "submissions_count_contest_30_days int64\n",
      "submissions_count_contest_365_days int64\n",
      "submissions_count_contest_7_days int64\n",
      "submissions_count_master int64\n",
      "submissions_count_master_1_days int64\n",
      "submissions_count_master_30_days int64\n",
      "submissions_count_master_365_days int64\n",
      "submissions_count_master_7_days int64\n"
     ]
    }
   ],
   "source": [
    "for cl in train_df.columns.values:\n",
    "    print cl,train_df[cl].dtype"
   ]
  },
  {
   "cell_type": "code",
   "execution_count": 10,
   "metadata": {
    "collapsed": false
   },
   "outputs": [],
   "source": [
    "from sklearn import linear_model\n",
    "from sklearn import tree\n",
    "from sklearn import svm\n",
    "from sklearn import ensemble \n",
    "from sklearn.feature_selection import SelectFromModel\n",
    "from sklearn.ensemble import ExtraTreesClassifier\n",
    "from sklearn.learning_curve import validation_curve,learning_curve\n",
    "\n",
    "\n",
    "train_data = train_df.values\n",
    "x_train_all = train_data[0::,1::]\n",
    "y_train_all = train_data[0::,0]\n",
    "\n",
    "# hipotese = linear_model.LogisticRegression(C=1e5)\n",
    "# hipotese = tree.DecisionTreeClassifier(random_state=1234)\n",
    "hipotese = ensemble.RandomForestClassifier(random_state=1234)\n",
    "\n",
    "# hipotese = svm.SVC()\n",
    "\n",
    "# hipotese.fit(x_train, y_train)\n"
   ]
  },
  {
   "cell_type": "markdown",
   "metadata": {},
   "source": [
    "Validation curve.\n",
    "-------\n",
    "##### Determine training and test scores for varying parameter values.\n",
    "##### Compute scores for an estimator with different values of a specified parameter. <br/> This is similar to grid search with one parameter. However, this will also compute training scores and is merely a utility for plotting the results."
   ]
  },
  {
   "cell_type": "code",
   "execution_count": 11,
   "metadata": {
    "collapsed": false
   },
   "outputs": [
    {
     "data": {
      "image/png": "[encoded data removed]",
      "text/plain": [
       "<matplotlib.figure.Figure at 0xa550a20>"
      ]
     },
     "metadata": {},
     "output_type": "display_data"
    }
   ],
   "source": [
    "param_range = range(10,200)\n",
    "train_scores, test_scores = validation_curve(\n",
    "    hipotese, x_train_all, y_train_all, param_name=\"n_estimators\", param_range=param_range,\n",
    "    cv=2, scoring=\"f1_weighted\", n_jobs=1)\n",
    "train_scores_mean = np.mean(train_scores, axis=1)\n",
    "train_scores_std = np.std(train_scores, axis=1)\n",
    "test_scores_mean = np.mean(test_scores, axis=1)\n",
    "test_scores_std = np.std(test_scores, axis=1)\n",
    "\n",
    "plt.title(\"Validation Curve with SVM\")\n",
    "plt.xlabel(\"$\\gamma$\")\n",
    "plt.ylabel(\"Score\")\n",
    "plt.ylim(0.0, 1.1)\n",
    "plt.plot(param_range, train_scores_mean, label=\"Training score\", color=\"r\")\n",
    "plt.fill_between(param_range, train_scores_mean - train_scores_std,\n",
    "                 train_scores_mean + train_scores_std, alpha=0.2, color=\"r\")\n",
    "plt.plot(param_range, test_scores_mean, label=\"Cross-validation score\",\n",
    "             color=\"g\")\n",
    "plt.fill_between(param_range, test_scores_mean - test_scores_std,\n",
    "                 test_scores_mean + test_scores_std, alpha=0.2, color=\"g\")\n",
    "plt.legend(loc=\"best\")\n",
    "plt.show()"
   ]
  },
  {
   "cell_type": "markdown",
   "metadata": {},
   "source": [
    "Learning curve.\n",
    "------\n",
    "##### Determines `cross-validated` `training` and `test` `scores` for different training set sizes.\n",
    "##### A `cross-validation` generator splits the whole dataset k times in training and test data.<br/> Subsets of the training set with varying sizes will be used to `train` the `estimator` and a `score` for each `training subset size` and the `test` set will be computed. \n",
    "\n",
    "###### Afterwards, the scores will be averaged over all `k` runs for each `training` subset size."
   ]
  },
  {
   "cell_type": "code",
   "execution_count": 12,
   "metadata": {
    "collapsed": false
   },
   "outputs": [
    {
     "data": {
      "image/png": "[encoded data removed]",
      "text/plain": [
       "<matplotlib.figure.Figure at 0x14287a58>"
      ]
     },
     "metadata": {},
     "output_type": "display_data"
    }
   ],
   "source": [
    "train_sizes, train_scores, test_scores = learning_curve(\n",
    "        hipotese, x_train_all, y_train_all, cv=3, n_jobs=1, train_sizes=np.linspace(.1, 1.0, 5))\n",
    "train_scores_mean = np.mean(train_scores, axis=1)\n",
    "train_scores_std = np.std(train_scores, axis=1)\n",
    "test_scores_mean = np.mean(test_scores, axis=1)\n",
    "test_scores_std = np.std(test_scores, axis=1)\n",
    "plt.grid()\n",
    "\n",
    "plt.fill_between(train_sizes, train_scores_mean - train_scores_std,\n",
    "                 train_scores_mean + train_scores_std, alpha=0.1,\n",
    "                 color=\"r\")\n",
    "plt.fill_between(train_sizes, test_scores_mean - test_scores_std,\n",
    "                 test_scores_mean + test_scores_std, alpha=0.1, color=\"g\")\n",
    "plt.plot(train_sizes, train_scores_mean, 'o-', color=\"r\",\n",
    "         label=\"Training score\")\n",
    "plt.plot(train_sizes, test_scores_mean, 'o-', color=\"g\",\n",
    "         label=\"Cross-validation score\")\n",
    "\n",
    "plt.legend(loc=\"best\")\n",
    "                    \n",
    "                    \n",
    "                    \n",
    "                    \n",
    "plt.show()"
   ]
  },
  {
   "cell_type": "code",
   "execution_count": null,
   "metadata": {
    "collapsed": true
   },
   "outputs": [],
   "source": []
  },
  {
   "cell_type": "code",
   "execution_count": null,
   "metadata": {
    "collapsed": true
   },
   "outputs": [],
   "source": []
  }
 ],
 "metadata": {
  "kernelspec": {
   "display_name": "Python 2",
   "language": "python",
   "name": "python2"
  },
  "language_info": {
   "codemirror_mode": {
    "name": "ipython",
    "version": 2
   },
   "file_extension": ".py",
   "mimetype": "text/x-python",
   "name": "python",
   "nbconvert_exporter": "python",
   "pygments_lexer": "ipython2",
   "version": "2.7.11"
  }
 },
 "nbformat": 4,
 "nbformat_minor": 0
}
