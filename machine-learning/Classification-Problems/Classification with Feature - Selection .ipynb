{
 "cells": [
  {
   "cell_type": "code",
   "execution_count": 1,
   "metadata": {
    "collapsed": true
   },
   "outputs": [],
   "source": [
    "import pandas as pd\n",
    "import numpy as np\n",
    "import csv as csv\n",
    "import math\n",
    "import matplotlib.pyplot as plt\n",
    "from sklearn.metrics import classification_report, accuracy_score\n",
    "from sklearn.cross_validation import train_test_split\n",
    "import time\n",
    "import time\n",
    "from datetime import date\n",
    "import datetime\n",
    "\n",
    "%matplotlib inline"
   ]
  },
  {
   "cell_type": "markdown",
   "metadata": {},
   "source": [
    "#### Concatenate the two training DataFrames"
   ]
  },
  {
   "cell_type": "code",
   "execution_count": 2,
   "metadata": {
    "collapsed": false
   },
   "outputs": [
    {
     "data": {
      "text/plain": [
       "(486048, 54)"
      ]
     },
     "execution_count": 2,
     "metadata": {},
     "output_type": "execute_result"
    }
   ],
   "source": [
    "train_df1 = pd.read_csv('../hackerrank-predict-email-opens-dataset/training_dataset.csv/training_dataset.csv', header=0)  \n",
    "train_df2 = pd.read_csv('../hackerrank-predict-email-opens-dataset/training_dataset.csv/training_dataset_complement.csv', header=0)  \n",
    "train_df = pd.concat([train_df1,train_df2])\n",
    "train_df.shape"
   ]
  },
  {
   "cell_type": "markdown",
   "metadata": {},
   "source": [
    "#### Dropping few columns"
   ]
  },
  {
   "cell_type": "code",
   "execution_count": 3,
   "metadata": {
    "collapsed": false
   },
   "outputs": [
    {
     "data": {
      "text/html": [
       "<div>\n",
       "<table border=\"1\" class=\"dataframe\">\n",
       "  <thead>\n",
       "    <tr style=\"text-align: right;\">\n",
       "      <th></th>\n",
       "      <th>last_online</th>\n",
       "      <th>contest_login_count</th>\n",
       "      <th>contest_login_count_1_days</th>\n",
       "      <th>contest_login_count_30_days</th>\n",
       "      <th>contest_login_count_365_days</th>\n",
       "      <th>contest_login_count_7_days</th>\n",
       "      <th>contest_participation_count</th>\n",
       "      <th>contest_participation_count_1_days</th>\n",
       "      <th>contest_participation_count_30_days</th>\n",
       "      <th>contest_participation_count_365_days</th>\n",
       "      <th>...</th>\n",
       "      <th>submissions_count_contest</th>\n",
       "      <th>submissions_count_contest_1_days</th>\n",
       "      <th>submissions_count_contest_30_days</th>\n",
       "      <th>submissions_count_contest_365_days</th>\n",
       "      <th>submissions_count_contest_7_days</th>\n",
       "      <th>submissions_count_master</th>\n",
       "      <th>submissions_count_master_1_days</th>\n",
       "      <th>submissions_count_master_30_days</th>\n",
       "      <th>submissions_count_master_365_days</th>\n",
       "      <th>submissions_count_master_7_days</th>\n",
       "    </tr>\n",
       "  </thead>\n",
       "  <tbody>\n",
       "    <tr>\n",
       "      <th>0</th>\n",
       "      <td>1.459520e+09</td>\n",
       "      <td>1</td>\n",
       "      <td>0</td>\n",
       "      <td>0</td>\n",
       "      <td>1</td>\n",
       "      <td>0</td>\n",
       "      <td>1</td>\n",
       "      <td>0</td>\n",
       "      <td>0</td>\n",
       "      <td>1</td>\n",
       "      <td>...</td>\n",
       "      <td>0</td>\n",
       "      <td>0</td>\n",
       "      <td>0</td>\n",
       "      <td>0</td>\n",
       "      <td>0</td>\n",
       "      <td>13</td>\n",
       "      <td>0</td>\n",
       "      <td>0</td>\n",
       "      <td>13</td>\n",
       "      <td>0</td>\n",
       "    </tr>\n",
       "    <tr>\n",
       "      <th>1</th>\n",
       "      <td>1.461210e+09</td>\n",
       "      <td>3</td>\n",
       "      <td>0</td>\n",
       "      <td>1</td>\n",
       "      <td>3</td>\n",
       "      <td>0</td>\n",
       "      <td>3</td>\n",
       "      <td>0</td>\n",
       "      <td>1</td>\n",
       "      <td>3</td>\n",
       "      <td>...</td>\n",
       "      <td>16</td>\n",
       "      <td>0</td>\n",
       "      <td>3</td>\n",
       "      <td>16</td>\n",
       "      <td>0</td>\n",
       "      <td>83</td>\n",
       "      <td>0</td>\n",
       "      <td>43</td>\n",
       "      <td>83</td>\n",
       "      <td>4</td>\n",
       "    </tr>\n",
       "    <tr>\n",
       "      <th>2</th>\n",
       "      <td>1.463411e+09</td>\n",
       "      <td>3</td>\n",
       "      <td>0</td>\n",
       "      <td>0</td>\n",
       "      <td>3</td>\n",
       "      <td>0</td>\n",
       "      <td>3</td>\n",
       "      <td>0</td>\n",
       "      <td>0</td>\n",
       "      <td>3</td>\n",
       "      <td>...</td>\n",
       "      <td>0</td>\n",
       "      <td>0</td>\n",
       "      <td>0</td>\n",
       "      <td>0</td>\n",
       "      <td>0</td>\n",
       "      <td>16</td>\n",
       "      <td>0</td>\n",
       "      <td>3</td>\n",
       "      <td>16</td>\n",
       "      <td>0</td>\n",
       "    </tr>\n",
       "    <tr>\n",
       "      <th>3</th>\n",
       "      <td>1.462768e+09</td>\n",
       "      <td>3</td>\n",
       "      <td>0</td>\n",
       "      <td>0</td>\n",
       "      <td>3</td>\n",
       "      <td>0</td>\n",
       "      <td>3</td>\n",
       "      <td>0</td>\n",
       "      <td>0</td>\n",
       "      <td>3</td>\n",
       "      <td>...</td>\n",
       "      <td>16</td>\n",
       "      <td>0</td>\n",
       "      <td>0</td>\n",
       "      <td>16</td>\n",
       "      <td>0</td>\n",
       "      <td>85</td>\n",
       "      <td>0</td>\n",
       "      <td>9</td>\n",
       "      <td>85</td>\n",
       "      <td>0</td>\n",
       "    </tr>\n",
       "    <tr>\n",
       "      <th>4</th>\n",
       "      <td>1.461248e+09</td>\n",
       "      <td>5</td>\n",
       "      <td>0</td>\n",
       "      <td>0</td>\n",
       "      <td>5</td>\n",
       "      <td>0</td>\n",
       "      <td>13</td>\n",
       "      <td>0</td>\n",
       "      <td>0</td>\n",
       "      <td>13</td>\n",
       "      <td>...</td>\n",
       "      <td>17</td>\n",
       "      <td>0</td>\n",
       "      <td>1</td>\n",
       "      <td>17</td>\n",
       "      <td>0</td>\n",
       "      <td>43</td>\n",
       "      <td>0</td>\n",
       "      <td>0</td>\n",
       "      <td>43</td>\n",
       "      <td>0</td>\n",
       "    </tr>\n",
       "  </tbody>\n",
       "</table>\n",
       "<p>5 rows × 42 columns</p>\n",
       "</div>"
      ],
      "text/plain": [
       "    last_online  contest_login_count  contest_login_count_1_days  \\\n",
       "0  1.459520e+09                    1                           0   \n",
       "1  1.461210e+09                    3                           0   \n",
       "2  1.463411e+09                    3                           0   \n",
       "3  1.462768e+09                    3                           0   \n",
       "4  1.461248e+09                    5                           0   \n",
       "\n",
       "   contest_login_count_30_days  contest_login_count_365_days  \\\n",
       "0                            0                             1   \n",
       "1                            1                             3   \n",
       "2                            0                             3   \n",
       "3                            0                             3   \n",
       "4                            0                             5   \n",
       "\n",
       "   contest_login_count_7_days  contest_participation_count  \\\n",
       "0                           0                            1   \n",
       "1                           0                            3   \n",
       "2                           0                            3   \n",
       "3                           0                            3   \n",
       "4                           0                           13   \n",
       "\n",
       "   contest_participation_count_1_days  contest_participation_count_30_days  \\\n",
       "0                                   0                                    0   \n",
       "1                                   0                                    1   \n",
       "2                                   0                                    0   \n",
       "3                                   0                                    0   \n",
       "4                                   0                                    0   \n",
       "\n",
       "   contest_participation_count_365_days               ...                 \\\n",
       "0                                     1               ...                  \n",
       "1                                     3               ...                  \n",
       "2                                     3               ...                  \n",
       "3                                     3               ...                  \n",
       "4                                    13               ...                  \n",
       "\n",
       "   submissions_count_contest  submissions_count_contest_1_days  \\\n",
       "0                          0                                 0   \n",
       "1                         16                                 0   \n",
       "2                          0                                 0   \n",
       "3                         16                                 0   \n",
       "4                         17                                 0   \n",
       "\n",
       "   submissions_count_contest_30_days  submissions_count_contest_365_days  \\\n",
       "0                                  0                                   0   \n",
       "1                                  3                                  16   \n",
       "2                                  0                                   0   \n",
       "3                                  0                                  16   \n",
       "4                                  1                                  17   \n",
       "\n",
       "   submissions_count_contest_7_days submissions_count_master  \\\n",
       "0                                 0                       13   \n",
       "1                                 0                       83   \n",
       "2                                 0                       16   \n",
       "3                                 0                       85   \n",
       "4                                 0                       43   \n",
       "\n",
       "   submissions_count_master_1_days  submissions_count_master_30_days  \\\n",
       "0                                0                                 0   \n",
       "1                                0                                43   \n",
       "2                                0                                 3   \n",
       "3                                0                                 9   \n",
       "4                                0                                 0   \n",
       "\n",
       "   submissions_count_master_365_days  submissions_count_master_7_days  \n",
       "0                                 13                                0  \n",
       "1                                 83                                4  \n",
       "2                                 16                                0  \n",
       "3                                 85                                0  \n",
       "4                                 43                                0  \n",
       "\n",
       "[5 rows x 42 columns]"
      ]
     },
     "execution_count": 3,
     "metadata": {},
     "output_type": "execute_result"
    }
   ],
   "source": [
    "train_df = train_df.drop(['user_id','mail_id','mail_type','clicked','hacker_timezone',\n",
    "                          'mail_category','sent_time','unsubscribed',\n",
    "                          'open_time','click_time','unsubscribe_time','hacker_created_at'], axis=1) \n",
    "train_df.head()"
   ]
  },
  {
   "cell_type": "markdown",
   "metadata": {},
   "source": [
    "#### Converting Boolean to Int"
   ]
  },
  {
   "cell_type": "code",
   "execution_count": 4,
   "metadata": {
    "collapsed": false
   },
   "outputs": [
    {
     "data": {
      "text/plain": [
       "(486048, 42)"
      ]
     },
     "execution_count": 4,
     "metadata": {},
     "output_type": "execute_result"
    }
   ],
   "source": [
    "train_df['opened'] = train_df.opened.map({True:1,False:0}).astype(int)\n",
    "train_df['hacker_confirmation'] = train_df.hacker_confirmation.map({True:1,False:0}).astype(int)\n",
    "train_df.shape\n"
   ]
  },
  {
   "cell_type": "markdown",
   "metadata": {},
   "source": [
    "#### Dropping rows with NA or Null Values (last_online is the only attribute with NA or Null values)"
   ]
  },
  {
   "cell_type": "code",
   "execution_count": 5,
   "metadata": {
    "collapsed": false
   },
   "outputs": [
    {
     "data": {
      "text/plain": [
       "(485471, 42)"
      ]
     },
     "execution_count": 5,
     "metadata": {},
     "output_type": "execute_result"
    }
   ],
   "source": [
    "train_df = train_df.dropna(subset=['last_online'],axis=0)\n",
    "train_df.shape"
   ]
  },
  {
   "cell_type": "markdown",
   "metadata": {},
   "source": [
    "#### Sorting Columns to data constancy"
   ]
  },
  {
   "cell_type": "code",
   "execution_count": 6,
   "metadata": {
    "collapsed": false
   },
   "outputs": [
    {
     "data": {
      "text/plain": [
       "(485471, 42)"
      ]
     },
     "execution_count": 6,
     "metadata": {},
     "output_type": "execute_result"
    }
   ],
   "source": [
    "train_df = train_df.reindex_axis(sorted(train_df.columns), axis=1)\n",
    "train_df.shape"
   ]
  },
  {
   "cell_type": "markdown",
   "metadata": {},
   "source": [
    "#### Adding opened attribute to the first column of DataFrame"
   ]
  },
  {
   "cell_type": "code",
   "execution_count": 7,
   "metadata": {
    "collapsed": false
   },
   "outputs": [
    {
     "data": {
      "text/html": [
       "<div>\n",
       "<table border=\"1\" class=\"dataframe\">\n",
       "  <thead>\n",
       "    <tr style=\"text-align: right;\">\n",
       "      <th></th>\n",
       "      <th>opened</th>\n",
       "      <th>contest_login_count</th>\n",
       "      <th>contest_login_count_1_days</th>\n",
       "      <th>contest_login_count_30_days</th>\n",
       "      <th>contest_login_count_365_days</th>\n",
       "      <th>contest_login_count_7_days</th>\n",
       "      <th>contest_participation_count</th>\n",
       "      <th>contest_participation_count_1_days</th>\n",
       "      <th>contest_participation_count_30_days</th>\n",
       "      <th>contest_participation_count_365_days</th>\n",
       "      <th>...</th>\n",
       "      <th>submissions_count_contest</th>\n",
       "      <th>submissions_count_contest_1_days</th>\n",
       "      <th>submissions_count_contest_30_days</th>\n",
       "      <th>submissions_count_contest_365_days</th>\n",
       "      <th>submissions_count_contest_7_days</th>\n",
       "      <th>submissions_count_master</th>\n",
       "      <th>submissions_count_master_1_days</th>\n",
       "      <th>submissions_count_master_30_days</th>\n",
       "      <th>submissions_count_master_365_days</th>\n",
       "      <th>submissions_count_master_7_days</th>\n",
       "    </tr>\n",
       "  </thead>\n",
       "  <tbody>\n",
       "    <tr>\n",
       "      <th>0</th>\n",
       "      <td>1</td>\n",
       "      <td>1</td>\n",
       "      <td>0</td>\n",
       "      <td>0</td>\n",
       "      <td>1</td>\n",
       "      <td>0</td>\n",
       "      <td>1</td>\n",
       "      <td>0</td>\n",
       "      <td>0</td>\n",
       "      <td>1</td>\n",
       "      <td>...</td>\n",
       "      <td>0</td>\n",
       "      <td>0</td>\n",
       "      <td>0</td>\n",
       "      <td>0</td>\n",
       "      <td>0</td>\n",
       "      <td>13</td>\n",
       "      <td>0</td>\n",
       "      <td>0</td>\n",
       "      <td>13</td>\n",
       "      <td>0</td>\n",
       "    </tr>\n",
       "    <tr>\n",
       "      <th>1</th>\n",
       "      <td>0</td>\n",
       "      <td>3</td>\n",
       "      <td>0</td>\n",
       "      <td>1</td>\n",
       "      <td>3</td>\n",
       "      <td>0</td>\n",
       "      <td>3</td>\n",
       "      <td>0</td>\n",
       "      <td>1</td>\n",
       "      <td>3</td>\n",
       "      <td>...</td>\n",
       "      <td>16</td>\n",
       "      <td>0</td>\n",
       "      <td>3</td>\n",
       "      <td>16</td>\n",
       "      <td>0</td>\n",
       "      <td>83</td>\n",
       "      <td>0</td>\n",
       "      <td>43</td>\n",
       "      <td>83</td>\n",
       "      <td>4</td>\n",
       "    </tr>\n",
       "    <tr>\n",
       "      <th>2</th>\n",
       "      <td>0</td>\n",
       "      <td>3</td>\n",
       "      <td>0</td>\n",
       "      <td>0</td>\n",
       "      <td>3</td>\n",
       "      <td>0</td>\n",
       "      <td>3</td>\n",
       "      <td>0</td>\n",
       "      <td>0</td>\n",
       "      <td>3</td>\n",
       "      <td>...</td>\n",
       "      <td>0</td>\n",
       "      <td>0</td>\n",
       "      <td>0</td>\n",
       "      <td>0</td>\n",
       "      <td>0</td>\n",
       "      <td>16</td>\n",
       "      <td>0</td>\n",
       "      <td>3</td>\n",
       "      <td>16</td>\n",
       "      <td>0</td>\n",
       "    </tr>\n",
       "    <tr>\n",
       "      <th>3</th>\n",
       "      <td>0</td>\n",
       "      <td>3</td>\n",
       "      <td>0</td>\n",
       "      <td>0</td>\n",
       "      <td>3</td>\n",
       "      <td>0</td>\n",
       "      <td>3</td>\n",
       "      <td>0</td>\n",
       "      <td>0</td>\n",
       "      <td>3</td>\n",
       "      <td>...</td>\n",
       "      <td>16</td>\n",
       "      <td>0</td>\n",
       "      <td>0</td>\n",
       "      <td>16</td>\n",
       "      <td>0</td>\n",
       "      <td>85</td>\n",
       "      <td>0</td>\n",
       "      <td>9</td>\n",
       "      <td>85</td>\n",
       "      <td>0</td>\n",
       "    </tr>\n",
       "    <tr>\n",
       "      <th>4</th>\n",
       "      <td>0</td>\n",
       "      <td>5</td>\n",
       "      <td>0</td>\n",
       "      <td>0</td>\n",
       "      <td>5</td>\n",
       "      <td>0</td>\n",
       "      <td>13</td>\n",
       "      <td>0</td>\n",
       "      <td>0</td>\n",
       "      <td>13</td>\n",
       "      <td>...</td>\n",
       "      <td>17</td>\n",
       "      <td>0</td>\n",
       "      <td>1</td>\n",
       "      <td>17</td>\n",
       "      <td>0</td>\n",
       "      <td>43</td>\n",
       "      <td>0</td>\n",
       "      <td>0</td>\n",
       "      <td>43</td>\n",
       "      <td>0</td>\n",
       "    </tr>\n",
       "  </tbody>\n",
       "</table>\n",
       "<p>5 rows × 42 columns</p>\n",
       "</div>"
      ],
      "text/plain": [
       "   opened  contest_login_count  contest_login_count_1_days  \\\n",
       "0       1                    1                           0   \n",
       "1       0                    3                           0   \n",
       "2       0                    3                           0   \n",
       "3       0                    3                           0   \n",
       "4       0                    5                           0   \n",
       "\n",
       "   contest_login_count_30_days  contest_login_count_365_days  \\\n",
       "0                            0                             1   \n",
       "1                            1                             3   \n",
       "2                            0                             3   \n",
       "3                            0                             3   \n",
       "4                            0                             5   \n",
       "\n",
       "   contest_login_count_7_days  contest_participation_count  \\\n",
       "0                           0                            1   \n",
       "1                           0                            3   \n",
       "2                           0                            3   \n",
       "3                           0                            3   \n",
       "4                           0                           13   \n",
       "\n",
       "   contest_participation_count_1_days  contest_participation_count_30_days  \\\n",
       "0                                   0                                    0   \n",
       "1                                   0                                    1   \n",
       "2                                   0                                    0   \n",
       "3                                   0                                    0   \n",
       "4                                   0                                    0   \n",
       "\n",
       "   contest_participation_count_365_days               ...                 \\\n",
       "0                                     1               ...                  \n",
       "1                                     3               ...                  \n",
       "2                                     3               ...                  \n",
       "3                                     3               ...                  \n",
       "4                                    13               ...                  \n",
       "\n",
       "   submissions_count_contest  submissions_count_contest_1_days  \\\n",
       "0                          0                                 0   \n",
       "1                         16                                 0   \n",
       "2                          0                                 0   \n",
       "3                         16                                 0   \n",
       "4                         17                                 0   \n",
       "\n",
       "   submissions_count_contest_30_days  submissions_count_contest_365_days  \\\n",
       "0                                  0                                   0   \n",
       "1                                  3                                  16   \n",
       "2                                  0                                   0   \n",
       "3                                  0                                  16   \n",
       "4                                  1                                  17   \n",
       "\n",
       "   submissions_count_contest_7_days  submissions_count_master  \\\n",
       "0                                 0                        13   \n",
       "1                                 0                        83   \n",
       "2                                 0                        16   \n",
       "3                                 0                        85   \n",
       "4                                 0                        43   \n",
       "\n",
       "   submissions_count_master_1_days  submissions_count_master_30_days  \\\n",
       "0                                0                                 0   \n",
       "1                                0                                43   \n",
       "2                                0                                 3   \n",
       "3                                0                                 9   \n",
       "4                                0                                 0   \n",
       "\n",
       "   submissions_count_master_365_days  submissions_count_master_7_days  \n",
       "0                                 13                                0  \n",
       "1                                 83                                4  \n",
       "2                                 16                                0  \n",
       "3                                 85                                0  \n",
       "4                                 43                                0  \n",
       "\n",
       "[5 rows x 42 columns]"
      ]
     },
     "execution_count": 7,
     "metadata": {},
     "output_type": "execute_result"
    }
   ],
   "source": [
    "train_df = train_df.reindex_axis(['opened'] + list([col for col in train_df.columns if col != 'opened']), axis=1)\n",
    "train_df.head()"
   ]
  },
  {
   "cell_type": "markdown",
   "metadata": {},
   "source": [
    "#### Check for NA values"
   ]
  },
  {
   "cell_type": "code",
   "execution_count": 8,
   "metadata": {
    "collapsed": false
   },
   "outputs": [
    {
     "name": "stdout",
     "output_type": "stream",
     "text": [
      "No NA found\n"
     ]
    }
   ],
   "source": [
    "hasany = False\n",
    "for cl in train_df.columns.values:\n",
    "    hasNa = train_df[cl].isnull().sum() > 0\n",
    "    if hasNa:\n",
    "        hasany = True\n",
    "        print cl,train_df[cl].isnull().sum()\n",
    "if not hasany:\n",
    "    print 'No NA found'\n",
    "    "
   ]
  },
  {
   "cell_type": "markdown",
   "metadata": {},
   "source": [
    "#### Check data types for your model"
   ]
  },
  {
   "cell_type": "code",
   "execution_count": 9,
   "metadata": {
    "collapsed": false
   },
   "outputs": [
    {
     "name": "stdout",
     "output_type": "stream",
     "text": [
      "opened int32\n",
      "contest_login_count int64\n",
      "contest_login_count_1_days int64\n",
      "contest_login_count_30_days int64\n",
      "contest_login_count_365_days int64\n",
      "contest_login_count_7_days int64\n",
      "contest_participation_count int64\n",
      "contest_participation_count_1_days int64\n",
      "contest_participation_count_30_days int64\n",
      "contest_participation_count_365_days int64\n",
      "contest_participation_count_7_days int64\n",
      "forum_comments_count int64\n",
      "forum_count int64\n",
      "forum_expert_count int64\n",
      "forum_questions_count int64\n",
      "hacker_confirmation int32\n",
      "ipn_count int64\n",
      "ipn_count_1_days int64\n",
      "ipn_count_30_days int64\n",
      "ipn_count_365_days int64\n",
      "ipn_count_7_days int64\n",
      "ipn_read int64\n",
      "ipn_read_1_days int64\n",
      "ipn_read_30_days int64\n",
      "ipn_read_365_days int64\n",
      "ipn_read_7_days int64\n",
      "last_online float64\n",
      "submissions_count int64\n",
      "submissions_count_1_days int64\n",
      "submissions_count_30_days int64\n",
      "submissions_count_365_days int64\n",
      "submissions_count_7_days int64\n",
      "submissions_count_contest int64\n",
      "submissions_count_contest_1_days int64\n",
      "submissions_count_contest_30_days int64\n",
      "submissions_count_contest_365_days int64\n",
      "submissions_count_contest_7_days int64\n",
      "submissions_count_master int64\n",
      "submissions_count_master_1_days int64\n",
      "submissions_count_master_30_days int64\n",
      "submissions_count_master_365_days int64\n",
      "submissions_count_master_7_days int64\n"
     ]
    }
   ],
   "source": [
    "for cl in train_df.columns.values:\n",
    "    print cl,train_df[cl].dtype"
   ]
  },
  {
   "cell_type": "code",
   "execution_count": 45,
   "metadata": {
    "collapsed": false
   },
   "outputs": [],
   "source": [
    "from sklearn import linear_model\n",
    "from sklearn import tree\n",
    "from sklearn import svm\n",
    "from sklearn import ensemble \n",
    "from sklearn.feature_selection import SelectFromModel\n",
    "from sklearn.ensemble import ExtraTreesClassifier\n",
    "from sklearn.feature_selection import VarianceThreshold\n",
    "\n",
    "train_data = train_df.values\n",
    "x_train_all = train_data[0::,1::]\n",
    "y_train_all = train_data[0::,0]\n",
    "\n",
    "x_train, x_test, y_train, y_test = train_test_split(train_data[0::,1::], train_data[0::,0], \n",
    "                            test_size = 0.2, random_state = 123) # Split training/test.\n"
   ]
  },
  {
   "cell_type": "markdown",
   "metadata": {},
   "source": [
    "Using Variance with Threshold -> VarianceThreshold\n",
    "------"
   ]
  },
  {
   "cell_type": "code",
   "execution_count": 21,
   "metadata": {
    "collapsed": false
   },
   "outputs": [
    {
     "name": "stdout",
     "output_type": "stream",
     "text": [
      "[  5.92169497e+01   1.15235800e-02   8.17802660e-01   3.18695098e+01\n",
      "   1.96381864e-01   1.52219968e+02   2.69246393e-02   2.17488492e+00\n",
      "   8.65012424e+01   4.52408418e-01   8.25390492e+00   1.23537944e+01\n",
      "   6.35134354e-02   1.84476335e-01   7.62243473e-02   8.78124989e+02\n",
      "   4.11418971e-01   7.17472235e+01   8.28937683e+02   8.23140625e+00\n",
      "   5.02016422e+01   1.75134449e-02   3.03373213e+00   4.46147079e+01\n",
      "   3.95243702e-01   1.08753180e+13   1.47458630e+04   2.45907948e+00\n",
      "   5.44221499e+02   8.05620176e+03   7.78755482e+01   6.09337880e+03\n",
      "   4.87003753e-01   6.19974722e+01   2.37681954e+03   1.03736998e+01\n",
      "   4.60234296e+03   1.87207125e+00   4.18513016e+02   3.39549336e+03\n",
      "   6.19790667e+01]\n",
      "(388376L, 41L)\n",
      "             precision    recall  f1-score   support\n",
      "\n",
      "        0.0       0.79      0.83      0.81     64915\n",
      "        1.0       0.62      0.55      0.58     32180\n",
      "\n",
      "avg / total       0.73      0.74      0.73     97095\n",
      "\n"
     ]
    }
   ],
   "source": [
    "selectionAttributes = VarianceThreshold()\n",
    "model = selectionAttributes.fit(x_train)\n",
    "\n",
    "print model.variances_ \n",
    "\n",
    "x_train_selected = model.transform(x_train)\n",
    "x_test_selected = model.transform(x_test)\n",
    "print x_train_selected.shape\n",
    "\n",
    "# hipotese = linear_model.LogisticRegression(C=1e5)\n",
    "hipotese = tree.DecisionTreeClassifier(random_state=1234)\n",
    "# hipotese = ensemble.RandomForestClassifier(random_state=1234)\n",
    "# hipotese = svm.SVC()\n",
    "\n",
    "hipotese.fit(x_train_selected, y_train)\n",
    "y_true, y_pred = y_test, hipotese.predict(x_test_selected) # Get our predictions\n",
    "print(classification_report(y_true, y_pred)) # Classification on each digit\n"
   ]
  },
  {
   "cell_type": "markdown",
   "metadata": {},
   "source": [
    "Univariate feature selection\n",
    "----------\n",
    "\n",
    "Univariate feature selection works by selecting the best features based on univariate statistical tests. <br/> It can be seen as a preprocessing step to an estimator. \n",
    "http://stats.stackexchange.com/questions/80002/categorize-statistical-tests-into-univariate-and-multivariate-methods"
   ]
  },
  {
   "cell_type": "markdown",
   "metadata": {},
   "source": [
    "<blockquote>\n",
    "<div><ul class=\"simple\">\n",
    "<li>For regression: <a class=\"reference internal\" href=\"generated/sklearn.feature_selection.f_regression.html#sklearn.feature_selection.f_regression\" title=\"sklearn.feature_selection.f_regression\"><code class=\"xref py py-func docutils literal\"><span class=\"pre\">f_regression</span></code></a></li>\n",
    "<li>For classification: <a class=\"reference internal\" href=\"generated/sklearn.feature_selection.chi2.html#sklearn.feature_selection.chi2\" title=\"sklearn.feature_selection.chi2\"><code class=\"xref py py-func docutils literal\"><span class=\"pre\">chi2</span></code></a> or <a class=\"reference internal\" href=\"generated/sklearn.feature_selection.f_classif.html#sklearn.feature_selection.f_classif\" title=\"sklearn.feature_selection.f_classif\"><code class=\"xref py py-func docutils literal\"><span class=\"pre\">f_classif</span></code></a></li>\n",
    "</ul>\n",
    "</div></blockquote>"
   ]
  },
  {
   "cell_type": "markdown",
   "metadata": {},
   "source": [
    "GenericUnivariateSelect\n",
    "----------\n",
    "\n",
    "#### Univariate feature selector with configurable strategy.\n",
    "\n",
    "#### GENERAL WAY TO WORK WITH FEATURE SELECTION\n"
   ]
  },
  {
   "cell_type": "code",
   "execution_count": 39,
   "metadata": {
    "collapsed": false
   },
   "outputs": [
    {
     "name": "stdout",
     "output_type": "stream",
     "text": [
      "Scores\n",
      "[  2.48813908e+02   7.87559378e+01   1.44857603e+03   7.04695292e+01\n",
      "   8.43626811e+02   9.46497187e+02   1.34077011e+02   1.05899770e+03\n",
      "   5.73707629e+02   7.96595558e+02   1.90112017e+02   4.07692114e+02\n",
      "   2.57257414e+01   8.79517977e+01   1.86700852e+02   3.51098457e+03\n",
      "   3.66416782e+02   6.54319661e+03   3.45027584e+03   2.59248873e+03\n",
      "   3.55310722e+03   3.54623288e+02   4.23154521e+03   3.74444521e+03\n",
      "   1.87956167e+03   5.65882615e+06   2.84894703e+03   5.24720421e+03\n",
      "   6.05739875e+04   2.95700180e+03   3.23039997e+04   1.63879825e+03\n",
      "   1.42097800e+03   8.98072725e+03   7.06184020e+02   3.46894686e+03\n",
      "   1.39594723e+03   3.83441289e+03   5.15939866e+04   2.25674138e+03\n",
      "   2.90630196e+04]\n",
      "Pvalues\n",
      "[  4.70999932e-056   7.02771840e-019   0.00000000e+000   4.67430860e-017\n",
      "   1.76651431e-185   7.65896532e-208   5.25568103e-031   2.69559007e-232\n",
      "   8.76621651e-127   2.96653921e-175   3.00524783e-043   1.16546016e-090\n",
      "   3.93542719e-007   6.70691312e-021   1.66915331e-042   0.00000000e+000\n",
      "   1.12818893e-081   0.00000000e+000   0.00000000e+000   0.00000000e+000\n",
      "   0.00000000e+000   4.17226342e-079   0.00000000e+000   0.00000000e+000\n",
      "   0.00000000e+000   0.00000000e+000   0.00000000e+000   0.00000000e+000\n",
      "   0.00000000e+000   0.00000000e+000   0.00000000e+000   0.00000000e+000\n",
      "   5.80616210e-311   0.00000000e+000   1.35193819e-155   0.00000000e+000\n",
      "   1.59626541e-305   0.00000000e+000   0.00000000e+000   0.00000000e+000\n",
      "   0.00000000e+000]\n",
      "(388376L, 40L)\n",
      "             precision    recall  f1-score   support\n",
      "\n",
      "        0.0       0.79      0.83      0.81     64915\n",
      "        1.0       0.62      0.55      0.58     32180\n",
      "\n",
      "avg / total       0.73      0.74      0.73     97095\n",
      "\n"
     ]
    }
   ],
   "source": [
    "from sklearn.feature_selection import GenericUnivariateSelect\n",
    "from sklearn.feature_selection import chi2,f_classif\n",
    "\n",
    "model = GenericUnivariateSelect(chi2, 'k_best',40).fit(x_train, y_train)\n",
    "\n",
    "print \"Scores\"\n",
    "print model.scores_ \n",
    "print \"Pvalues\"\n",
    "print model.pvalues_ \n",
    "\n",
    "x_train_selected =  model.transform(x_train)\n",
    "\n",
    "print x_train_selected.shape\n",
    "\n",
    "x_test_selected =  model.transform(x_test)\n",
    "\n",
    "# hipotese = linear_model.LogisticRegression(C=1e5)\n",
    "hipotese = tree.DecisionTreeClassifier(random_state=1234)\n",
    "# hipotese = ensemble.RandomForestClassifier(random_state=1234)\n",
    "# hipotese = svm.SVC()\n",
    "\n",
    "hipotese.fit(x_train_selected, y_train)\n",
    "y_true, y_pred = y_test, hipotese.predict(x_test_selected) # Get our predictions\n",
    "print(classification_report(y_true, y_pred)) # Classification on each digit\n"
   ]
  },
  {
   "cell_type": "markdown",
   "metadata": {},
   "source": [
    "RFE - Recursive feature elimination\n",
    "----\n",
    "Feature ranking with recursive feature elimination.<br/>\n",
    "Given an external estimator that assigns weights to features (e.g., the coefficients of a linear model), the goal of recursive feature elimination (RFE) is to select features by recursively considering smaller and smaller sets of features. <br/>First, the estimator is trained on the initial set of features and weights are assigned to each one of them. Then, features whose absolute weights are the smallest are pruned from the current set features. <br/>That procedure is recursively repeated on the pruned set until the desired number of features to select is eventually reached."
   ]
  },
  {
   "cell_type": "code",
   "execution_count": 44,
   "metadata": {
    "collapsed": false
   },
   "outputs": [
    {
     "name": "stdout",
     "output_type": "stream",
     "text": [
      "Support - Mask\n",
      "[False False False False False False False False False False False False\n",
      " False False False False False False False False False False False False\n",
      " False  True False False False False False False False False False False\n",
      " False False False False False]\n",
      "Ranking\n",
      "[17 41 27 20 33 16 36 21  8 25 31 26 38 37 30  7 24  5  3 11 12 39 23 18 32\n",
      "  1  6 28  9  2 14 13 40 29 19 35  4 34 15 10 22]\n",
      "(388376L, 1L)\n",
      "             precision    recall  f1-score   support\n",
      "\n",
      "        0.0       0.74      0.87      0.80     64915\n",
      "        1.0       0.60      0.39      0.47     32180\n",
      "\n",
      "avg / total       0.70      0.71      0.69     97095\n",
      "\n"
     ]
    }
   ],
   "source": [
    "from sklearn.feature_selection import RFE\n",
    "\n",
    "hipotese = tree.DecisionTreeClassifier(random_state=1234)\n",
    "\n",
    "rfe = RFE(estimator=hipotese, n_features_to_select=1, step=1)\n",
    "\n",
    "model = rfe.fit(x_train, y_train)\n",
    "\n",
    "print \"Support - Mask\"\n",
    "print model.support_  \n",
    "print \"Ranking\"\n",
    "print model.ranking_  \n",
    "\n",
    "x_train_selected =  model.transform(x_train)\n",
    "\n",
    "print x_train_selected.shape\n",
    "\n",
    "x_test_selected =  model.transform(x_test)\n",
    "\n",
    "# hipotese = linear_model.LogisticRegression(C=1e5)\n",
    "# hipotese = tree.DecisionTreeClassifier(random_state=1234)\n",
    " \n",
    "hipotese = model.estimator_\n",
    "\n",
    "# hipotese = ensemble.RandomForestClassifier(random_state=1234)\n",
    "# hipotese = svm.SVC()\n",
    "\n",
    "hipotese.fit(x_train_selected, y_train)\n",
    "y_true, y_pred = y_test, hipotese.predict(x_test_selected) # Get our predictions\n",
    "print(classification_report(y_true, y_pred)) # Classification on each digit\n"
   ]
  },
  {
   "cell_type": "markdown",
   "metadata": {},
   "source": [
    "RFECV - Recursive feature elimination with cross-validation\n",
    "------\n",
    "A recursive feature elimination example with automatic tuning of the number of features selected with cross-validation.\n"
   ]
  },
  {
   "cell_type": "code",
   "execution_count": 48,
   "metadata": {
    "collapsed": false
   },
   "outputs": [
    {
     "name": "stdout",
     "output_type": "stream",
     "text": [
      "Optimal number of features : 1\n"
     ]
    },
    {
     "data": {
      "image/png": "[encoded data removed]",
      "text/plain": [
       "<matplotlib.figure.Figure at 0x12312cf8>"
      ]
     },
     "metadata": {},
     "output_type": "display_data"
    }
   ],
   "source": [
    "from sklearn.feature_selection import RFE\n",
    "from sklearn.feature_selection import RFECV\n",
    "from sklearn.cross_validation import StratifiedKFold\n",
    "\n",
    "\n",
    "\n",
    "hipotese = tree.DecisionTreeClassifier(random_state=1234)\n",
    "\n",
    "rfecv = RFECV(estimator=hipotese, step=1, cv=StratifiedKFold(y_train_all, 3),\n",
    "              scoring='accuracy')\n",
    "rfecv.fit(x_train_all, y_train_all)\n",
    "\n",
    "\n",
    "\n",
    "print(\"Optimal number of features : %d\" % rfecv.n_features_)\n",
    "\n",
    "\n",
    "\n",
    "# Plot number of features VS. cross-validation scores\n",
    "plt.figure()\n",
    "plt.xlabel(\"Number of features selected\")\n",
    "plt.ylabel(\"Cross validation score (nb of correct classifications)\")\n",
    "plt.plot(range(1, len(rfecv.grid_scores_) + 1), rfecv.grid_scores_)\n",
    "plt.show()"
   ]
  },
  {
   "cell_type": "markdown",
   "metadata": {},
   "source": [
    "Feature selection using SelectFromModel\n",
    "------\n",
    "\n",
    "`SelectFromModel` is a meta-transformer that can be used along with any estimator that has a `coef_` or `feature_importances_` attribute after fitting. <br/>\n",
    "The features are considered unimportant and removed, if the corresponding `coef_` or `feature_importances_` values are below the provided threshold parameter. Apart from specifying the threshold numerically, there are build-in heuristics for finding a threshold using a string argument.\n",
    "\n",
    "##### Available heuristics are “mean”, “median” and float multiples of these like “0.1*mean”.\n"
   ]
  },
  {
   "cell_type": "code",
   "execution_count": 50,
   "metadata": {
    "collapsed": false
   },
   "outputs": [
    {
     "name": "stdout",
     "output_type": "stream",
     "text": [
      "(388376L, 39L)\n",
      "             precision    recall  f1-score   support\n",
      "\n",
      "        0.0       0.67      0.99      0.80     64915\n",
      "        1.0       0.47      0.02      0.03     32180\n",
      "\n",
      "avg / total       0.60      0.67      0.55     97095\n",
      "\n"
     ]
    }
   ],
   "source": [
    "from sklearn.svm import LinearSVC\n",
    "from sklearn.feature_selection import SelectFromModel\n",
    "\n",
    "lsvc = LinearSVC(C=0.01, penalty=\"l1\", dual=False)\n",
    "\n",
    "model = SelectFromModel(lsvc, prefit=False)\n",
    "model = model.fit(x_train, y_train)\n",
    "\n",
    "x_train_selected =  model.transform(x_train)\n",
    "\n",
    "print x_train_selected.shape\n",
    "\n",
    "x_test_selected =  model.transform(x_test)\n",
    "\n",
    "# hipotese = linear_model.LogisticRegression(C=1e5)\n",
    "# hipotese = tree.DecisionTreeClassifier(random_state=1234)\n",
    " \n",
    "hipotese = model.estimator_\n",
    "\n",
    "# hipotese = ensemble.RandomForestClassifier(random_state=1234)\n",
    "# hipotese = svm.SVC()\n",
    "\n",
    "hipotese.fit(x_train_selected, y_train)\n",
    "y_true, y_pred = y_test, hipotese.predict(x_test_selected) # Get our predictions\n",
    "print(classification_report(y_true, y_pred)) # Classification on each digit\n"
   ]
  },
  {
   "cell_type": "markdown",
   "metadata": {},
   "source": [
    "# Feature selection using SelectFromModel and LinearSVC \n",
    "## Changing threshold from SelectFromModel object\n",
    "#### ps: working to reduce dimensionalities"
   ]
  },
  {
   "cell_type": "code",
   "execution_count": 59,
   "metadata": {
    "collapsed": false
   },
   "outputs": [
    {
     "name": "stdout",
     "output_type": "stream",
     "text": [
      "Initial number of features:\n",
      "23\n",
      "Training data shape:\n",
      "(388376L, 2L)\n",
      "Support Indexed = True from feature selection:\n",
      "[ 2 14]\n",
      "             precision    recall  f1-score   support\n",
      "\n",
      "        0.0       0.67      1.00      0.80     64915\n",
      "        1.0       0.14      0.00      0.00     32180\n",
      "\n",
      "avg / total       0.49      0.67      0.54     97095\n",
      "\n"
     ]
    },
    {
     "data": {
      "image/png": "[encoded data removed]",
      "text/plain": [
       "<matplotlib.figure.Figure at 0x130eb048>"
      ]
     },
     "metadata": {},
     "output_type": "display_data"
    }
   ],
   "source": [
    "from sklearn.svm import LinearSVC\n",
    "from sklearn.feature_selection import SelectFromModel\n",
    "\n",
    "lsvc = LinearSVC(C=0.01, penalty=\"l1\", dual=False)\n",
    "\n",
    "model = SelectFromModel(lsvc, prefit=False,threshold=0.0025)\n",
    "model = model.fit(x_train, y_train)\n",
    "\n",
    "x_train_selected =  model.transform(x_train)\n",
    "\n",
    "n_features = x_train_selected.shape[1] \n",
    "print \"Initial number of features:\"\n",
    "print n_features\n",
    "\n",
    "while n_features > 2:\n",
    "    model.threshold += 0.0001\n",
    "    x_train_selected = model.transform(x_train)\n",
    "    n_features = x_train_selected.shape[1]\n",
    "\n",
    "print \"Training data shape:\"\n",
    "print x_train_selected.shape\n",
    "\n",
    "print \"Support Indexed = True from feature selection:\"\n",
    "print model.get_support(True)\n",
    "\n",
    "x_test_selected =  model.transform(x_test)\n",
    "\n",
    "# hipotese = linear_model.LogisticRegression(C=1e5)\n",
    "hipotese = tree.DecisionTreeClassifier(random_state=1234)\n",
    " \n",
    "# hipotese = model.estimator_\n",
    "\n",
    "# hipotese = ensemble.RandomForestClassifier(random_state=1234)\n",
    "# hipotese = svm.SVC()\n",
    "\n",
    "\n",
    "hipotese.fit(x_train_selected, y_train)\n",
    "y_true, y_pred = y_test, hipotese.predict(x_test_selected) # Get our predictions\n",
    "print(classification_report(y_true, y_pred)) # Classification on each digit\n",
    "\n",
    "\n",
    "# Plot the selected two features from X.\n",
    "plt.title(\n",
    "    \"Features selected from Boston using SelectFromModel with \"\n",
    "    \"threshold %0.3f.\" % model.threshold)\n",
    "feature1 = x_train_selected[:, 0]\n",
    "feature2 = x_train_selected[:, 1] \n",
    "plt.plot(feature1, feature2, 'r.')\n",
    "plt.xlabel(\"Feature number 1\")\n",
    "plt.ylabel(\"Feature number 2\")\n",
    "plt.ylim([np.min(feature2), np.max(feature2)])\n",
    "plt.show()\n"
   ]
  },
  {
   "cell_type": "markdown",
   "metadata": {},
   "source": [
    "Appendix - 1\n",
    "---------"
   ]
  },
  {
   "cell_type": "markdown",
   "metadata": {},
   "source": [
    "SelectKBest\n",
    "-----"
   ]
  },
  {
   "cell_type": "markdown",
   "metadata": {},
   "source": [
    "chi2\n",
    "------\n",
    "#### Compute chi-squared stats between each non-negative feature and class.\n",
    "#### This score can be used to select the n_features features with the highest values for the test chi-squared statistic from X, which must contain only non-negative features such as booleans or frequencies (e.g., term counts in document classification), relative to the classes.\n",
    "##### Recall that the chi-square test measures dependence between stochastic variables, so using this function “weeds out” the features that are the most likely to be independent of class and therefore irrelevant for classification.\n"
   ]
  },
  {
   "cell_type": "code",
   "execution_count": 23,
   "metadata": {
    "collapsed": false
   },
   "outputs": [
    {
     "name": "stdout",
     "output_type": "stream",
     "text": [
      "Scores\n",
      "[  2.48813908e+02   7.87559378e+01   1.44857603e+03   7.04695292e+01\n",
      "   8.43626811e+02   9.46497187e+02   1.34077011e+02   1.05899770e+03\n",
      "   5.73707629e+02   7.96595558e+02   1.90112017e+02   4.07692114e+02\n",
      "   2.57257414e+01   8.79517977e+01   1.86700852e+02   3.51098457e+03\n",
      "   3.66416782e+02   6.54319661e+03   3.45027584e+03   2.59248873e+03\n",
      "   3.55310722e+03   3.54623288e+02   4.23154521e+03   3.74444521e+03\n",
      "   1.87956167e+03   5.65882615e+06   2.84894703e+03   5.24720421e+03\n",
      "   6.05739875e+04   2.95700180e+03   3.23039997e+04   1.63879825e+03\n",
      "   1.42097800e+03   8.98072725e+03   7.06184020e+02   3.46894686e+03\n",
      "   1.39594723e+03   3.83441289e+03   5.15939866e+04   2.25674138e+03\n",
      "   2.90630196e+04]\n",
      "Pvalues\n",
      "[  4.70999932e-056   7.02771840e-019   0.00000000e+000   4.67430860e-017\n",
      "   1.76651431e-185   7.65896532e-208   5.25568103e-031   2.69559007e-232\n",
      "   8.76621651e-127   2.96653921e-175   3.00524783e-043   1.16546016e-090\n",
      "   3.93542719e-007   6.70691312e-021   1.66915331e-042   0.00000000e+000\n",
      "   1.12818893e-081   0.00000000e+000   0.00000000e+000   0.00000000e+000\n",
      "   0.00000000e+000   4.17226342e-079   0.00000000e+000   0.00000000e+000\n",
      "   0.00000000e+000   0.00000000e+000   0.00000000e+000   0.00000000e+000\n",
      "   0.00000000e+000   0.00000000e+000   0.00000000e+000   0.00000000e+000\n",
      "   5.80616210e-311   0.00000000e+000   1.35193819e-155   0.00000000e+000\n",
      "   1.59626541e-305   0.00000000e+000   0.00000000e+000   0.00000000e+000\n",
      "   0.00000000e+000]\n",
      "(388376L, 2L)\n",
      "             precision    recall  f1-score   support\n",
      "\n",
      "        0.0       0.78      0.86      0.82     64915\n",
      "        1.0       0.64      0.50      0.56     32180\n",
      "\n",
      "avg / total       0.73      0.74      0.73     97095\n",
      "\n"
     ]
    }
   ],
   "source": [
    "from sklearn.feature_selection import SelectKBest\n",
    "from sklearn.feature_selection import chi2,f_classif\n",
    "\n",
    "model = SelectKBest(chi2, k=2).fit(x_train, y_train)\n",
    "\n",
    "print \"Scores\"\n",
    "print model.scores_ \n",
    "print \"Pvalues\"\n",
    "print model.pvalues_ \n",
    "\n",
    "x_train_selected =  model.transform(x_train)\n",
    "\n",
    "print x_train_selected.shape\n",
    "\n",
    "x_test_selected =  model.transform(x_test)\n",
    "\n",
    "# hipotese = linear_model.LogisticRegression(C=1e5)\n",
    "hipotese = tree.DecisionTreeClassifier(random_state=1234)\n",
    "# hipotese = ensemble.RandomForestClassifier(random_state=1234)\n",
    "# hipotese = svm.SVC()\n",
    "\n",
    "hipotese.fit(x_train_selected, y_train)\n",
    "y_true, y_pred = y_test, hipotese.predict(x_test_selected) # Get our predictions\n",
    "print(classification_report(y_true, y_pred)) # Classification on each digit\n"
   ]
  },
  {
   "cell_type": "markdown",
   "metadata": {},
   "source": [
    "f_classif\n",
    "------\n",
    "#### Compute the ANOVA F-value for the provided sample.\n"
   ]
  },
  {
   "cell_type": "code",
   "execution_count": 24,
   "metadata": {
    "collapsed": false
   },
   "outputs": [
    {
     "name": "stdout",
     "output_type": "stream",
     "text": [
      "Scores\n",
      "[   15.56719078    66.28201378   933.98776104     6.39787658   699.13901104\n",
      "    36.33378924    86.86163536   436.64180941    31.11640653   487.73946853\n",
      "     8.72054615    17.72135466     9.28109587    31.98597646  2258.77950748\n",
      "    97.28037691   216.66952462   472.75284483    99.86430699   508.38300944\n",
      "   183.20088034   283.82929815   617.96746467   202.44402531   570.88755858\n",
      "   760.73900966    11.16031246   432.06786839  1188.1422688     17.84529666\n",
      "  1234.56494106     4.60066622   139.3669068    232.50012686     4.0076796\n",
      "   162.4083098     12.33216028   316.73754995  1117.41878851    23.34832107\n",
      "  1167.00793315]\n",
      "Pvalues\n",
      "[  7.96383282e-005   3.91948422e-016   7.03785512e-205   1.14260863e-002\n",
      "   6.30675395e-154   1.66405351e-009   1.16964844e-020   6.58912469e-097\n",
      "   2.43169834e-008   5.15704926e-108   3.14662606e-003   2.55796921e-005\n",
      "   2.31546397e-003   1.55398194e-008   0.00000000e+000   6.05488956e-023\n",
      "   4.96718066e-049   9.32023104e-105   1.64276063e-023   1.68461416e-112\n",
      "   9.90953822e-042   1.15828125e-063   2.64739303e-136   6.28163802e-046\n",
      "   4.44212262e-126   2.69387581e-167   8.35737174e-004   6.50444940e-096\n",
      "   5.71261000e-260   2.39665296e-005   5.00426227e-270   3.19601528e-002\n",
      "   3.70821602e-032   1.75936012e-052   4.52941402e-002   3.42726500e-037\n",
      "   4.45271356e-004   7.93875459e-071   1.20797433e-244   1.35212870e-006\n",
      "   2.16821987e-255]\n",
      "(388376L, 2L)\n",
      "             precision    recall  f1-score   support\n",
      "\n",
      "        0.0       0.67      1.00      0.80     64915\n",
      "        1.0       0.49      0.00      0.00     32180\n",
      "\n",
      "avg / total       0.61      0.67      0.54     97095\n",
      "\n"
     ]
    }
   ],
   "source": [
    "from sklearn.feature_selection import SelectKBest\n",
    "from sklearn.feature_selection import chi2,f_classif\n",
    "\n",
    "model = SelectKBest(f_classif, k=2).fit(x_train, y_train)\n",
    "\n",
    "print \"Scores\"\n",
    "print model.scores_ \n",
    "print \"Pvalues\"\n",
    "print model.pvalues_ \n",
    "\n",
    "x_train_selected =  model.transform(x_train)\n",
    "\n",
    "print x_train_selected.shape\n",
    "\n",
    "x_test_selected =  model.transform(x_test)\n",
    "\n",
    "# hipotese = linear_model.LogisticRegression(C=1e5)\n",
    "hipotese = tree.DecisionTreeClassifier(random_state=1234)\n",
    "# hipotese = ensemble.RandomForestClassifier(random_state=1234)\n",
    "# hipotese = svm.SVC()\n",
    "\n",
    "hipotese.fit(x_train_selected, y_train)\n",
    "y_true, y_pred = y_test, hipotese.predict(x_test_selected) # Get our predictions\n",
    "print(classification_report(y_true, y_pred)) # Classification on each digit\n"
   ]
  },
  {
   "cell_type": "markdown",
   "metadata": {},
   "source": [
    "SelectPercentile\n",
    "-----\n",
    "##### Select features according to a percentile of the highest scores.\n"
   ]
  },
  {
   "cell_type": "code",
   "execution_count": 26,
   "metadata": {
    "collapsed": false
   },
   "outputs": [
    {
     "name": "stdout",
     "output_type": "stream",
     "text": [
      "Scores\n",
      "[   15.56719078    66.28201378   933.98776104     6.39787658   699.13901104\n",
      "    36.33378924    86.86163536   436.64180941    31.11640653   487.73946853\n",
      "     8.72054615    17.72135466     9.28109587    31.98597646  2258.77950748\n",
      "    97.28037691   216.66952462   472.75284483    99.86430699   508.38300944\n",
      "   183.20088034   283.82929815   617.96746467   202.44402531   570.88755858\n",
      "   760.73900966    11.16031246   432.06786839  1188.1422688     17.84529666\n",
      "  1234.56494106     4.60066622   139.3669068    232.50012686     4.0076796\n",
      "   162.4083098     12.33216028   316.73754995  1117.41878851    23.34832107\n",
      "  1167.00793315]\n",
      "Pvalues\n",
      "[  7.96383282e-005   3.91948422e-016   7.03785512e-205   1.14260863e-002\n",
      "   6.30675395e-154   1.66405351e-009   1.16964844e-020   6.58912469e-097\n",
      "   2.43169834e-008   5.15704926e-108   3.14662606e-003   2.55796921e-005\n",
      "   2.31546397e-003   1.55398194e-008   0.00000000e+000   6.05488956e-023\n",
      "   4.96718066e-049   9.32023104e-105   1.64276063e-023   1.68461416e-112\n",
      "   9.90953822e-042   1.15828125e-063   2.64739303e-136   6.28163802e-046\n",
      "   4.44212262e-126   2.69387581e-167   8.35737174e-004   6.50444940e-096\n",
      "   5.71261000e-260   2.39665296e-005   5.00426227e-270   3.19601528e-002\n",
      "   3.70821602e-032   1.75936012e-052   4.52941402e-002   3.42726500e-037\n",
      "   4.45271356e-004   7.93875459e-071   1.20797433e-244   1.35212870e-006\n",
      "   2.16821987e-255]\n",
      "(388376L, 36L)\n",
      "             precision    recall  f1-score   support\n",
      "\n",
      "        0.0       0.79      0.83      0.81     64915\n",
      "        1.0       0.61      0.55      0.58     32180\n",
      "\n",
      "avg / total       0.73      0.74      0.73     97095\n",
      "\n"
     ]
    }
   ],
   "source": [
    "from sklearn.feature_selection import SelectPercentile\n",
    "from sklearn.feature_selection import chi2,f_classif\n",
    "\n",
    "model = SelectPercentile(f_classif, percentile=90).fit(x_train, y_train)\n",
    "\n",
    "print \"Scores\"\n",
    "print model.scores_ \n",
    "print \"Pvalues\"\n",
    "print model.pvalues_ \n",
    "\n",
    "x_train_selected =  model.transform(x_train)\n",
    "\n",
    "print x_train_selected.shape\n",
    "\n",
    "x_test_selected =  model.transform(x_test)\n",
    "\n",
    "# hipotese = linear_model.LogisticRegression(C=1e5)\n",
    "hipotese = tree.DecisionTreeClassifier(random_state=1234)\n",
    "# hipotese = ensemble.RandomForestClassifier(random_state=1234)\n",
    "# hipotese = svm.SVC()\n",
    "\n",
    "hipotese.fit(x_train_selected, y_train)\n",
    "y_true, y_pred = y_test, hipotese.predict(x_test_selected) # Get our predictions\n",
    "print(classification_report(y_true, y_pred)) # Classification on each digit\n"
   ]
  },
  {
   "cell_type": "markdown",
   "metadata": {},
   "source": [
    "SelectFpr\n",
    "-----\n",
    "\n",
    "#### Filter: Select the pvalues below alpha based on a FPR test. <br/>\n",
    "#### FPR test stands for False Positive Rate test. It controls the total amount of false detections."
   ]
  },
  {
   "cell_type": "code",
   "execution_count": 31,
   "metadata": {
    "collapsed": false
   },
   "outputs": [
    {
     "name": "stdout",
     "output_type": "stream",
     "text": [
      "Scores\n",
      "[  2.48813908e+02   7.87559378e+01   1.44857603e+03   7.04695292e+01\n",
      "   8.43626811e+02   9.46497187e+02   1.34077011e+02   1.05899770e+03\n",
      "   5.73707629e+02   7.96595558e+02   1.90112017e+02   4.07692114e+02\n",
      "   2.57257414e+01   8.79517977e+01   1.86700852e+02   3.51098457e+03\n",
      "   3.66416782e+02   6.54319661e+03   3.45027584e+03   2.59248873e+03\n",
      "   3.55310722e+03   3.54623288e+02   4.23154521e+03   3.74444521e+03\n",
      "   1.87956167e+03   5.65882615e+06   2.84894703e+03   5.24720421e+03\n",
      "   6.05739875e+04   2.95700180e+03   3.23039997e+04   1.63879825e+03\n",
      "   1.42097800e+03   8.98072725e+03   7.06184020e+02   3.46894686e+03\n",
      "   1.39594723e+03   3.83441289e+03   5.15939866e+04   2.25674138e+03\n",
      "   2.90630196e+04]\n",
      "Pvalues\n",
      "[  4.70999932e-056   7.02771840e-019   0.00000000e+000   4.67430860e-017\n",
      "   1.76651431e-185   7.65896532e-208   5.25568103e-031   2.69559007e-232\n",
      "   8.76621651e-127   2.96653921e-175   3.00524783e-043   1.16546016e-090\n",
      "   3.93542719e-007   6.70691312e-021   1.66915331e-042   0.00000000e+000\n",
      "   1.12818893e-081   0.00000000e+000   0.00000000e+000   0.00000000e+000\n",
      "   0.00000000e+000   4.17226342e-079   0.00000000e+000   0.00000000e+000\n",
      "   0.00000000e+000   0.00000000e+000   0.00000000e+000   0.00000000e+000\n",
      "   0.00000000e+000   0.00000000e+000   0.00000000e+000   0.00000000e+000\n",
      "   5.80616210e-311   0.00000000e+000   1.35193819e-155   0.00000000e+000\n",
      "   1.59626541e-305   0.00000000e+000   0.00000000e+000   0.00000000e+000\n",
      "   0.00000000e+000]\n",
      "(388376L, 41L)\n",
      "             precision    recall  f1-score   support\n",
      "\n",
      "        0.0       0.79      0.83      0.81     64915\n",
      "        1.0       0.62      0.55      0.58     32180\n",
      "\n",
      "avg / total       0.73      0.74      0.73     97095\n",
      "\n"
     ]
    }
   ],
   "source": [
    "from sklearn.feature_selection import SelectFpr\n",
    "from sklearn.feature_selection import chi2,f_classif\n",
    "\n",
    "model = SelectFpr(chi2, alpha=0.001).fit(x_train, y_train)\n",
    "\n",
    "print \"Scores\"\n",
    "print model.scores_ \n",
    "print \"Pvalues\"\n",
    "print model.pvalues_ \n",
    "\n",
    "x_train_selected =  model.transform(x_train)\n",
    "\n",
    "print x_train_selected.shape\n",
    "\n",
    "x_test_selected =  model.transform(x_test)\n",
    "\n",
    "# hipotese = linear_model.LogisticRegression(C=1e5)\n",
    "hipotese = tree.DecisionTreeClassifier(random_state=1234)\n",
    "# hipotese = ensemble.RandomForestClassifier(random_state=1234)\n",
    "# hipotese = svm.SVC()\n",
    "\n",
    "hipotese.fit(x_train_selected, y_train)\n",
    "y_true, y_pred = y_test, hipotese.predict(x_test_selected) # Get our predictions\n",
    "print(classification_report(y_true, y_pred)) # Classification on each digit\n"
   ]
  },
  {
   "cell_type": "markdown",
   "metadata": {},
   "source": [
    "SelectFwe\n",
    "-------\n",
    "\n",
    "#### Filter: Select the p-values corresponding to Family-wise error rate\n"
   ]
  },
  {
   "cell_type": "code",
   "execution_count": 33,
   "metadata": {
    "collapsed": false
   },
   "outputs": [
    {
     "name": "stdout",
     "output_type": "stream",
     "text": [
      "Scores\n",
      "[  2.48813908e+02   7.87559378e+01   1.44857603e+03   7.04695292e+01\n",
      "   8.43626811e+02   9.46497187e+02   1.34077011e+02   1.05899770e+03\n",
      "   5.73707629e+02   7.96595558e+02   1.90112017e+02   4.07692114e+02\n",
      "   2.57257414e+01   8.79517977e+01   1.86700852e+02   3.51098457e+03\n",
      "   3.66416782e+02   6.54319661e+03   3.45027584e+03   2.59248873e+03\n",
      "   3.55310722e+03   3.54623288e+02   4.23154521e+03   3.74444521e+03\n",
      "   1.87956167e+03   5.65882615e+06   2.84894703e+03   5.24720421e+03\n",
      "   6.05739875e+04   2.95700180e+03   3.23039997e+04   1.63879825e+03\n",
      "   1.42097800e+03   8.98072725e+03   7.06184020e+02   3.46894686e+03\n",
      "   1.39594723e+03   3.83441289e+03   5.15939866e+04   2.25674138e+03\n",
      "   2.90630196e+04]\n",
      "Pvalues\n",
      "[  4.70999932e-056   7.02771840e-019   0.00000000e+000   4.67430860e-017\n",
      "   1.76651431e-185   7.65896532e-208   5.25568103e-031   2.69559007e-232\n",
      "   8.76621651e-127   2.96653921e-175   3.00524783e-043   1.16546016e-090\n",
      "   3.93542719e-007   6.70691312e-021   1.66915331e-042   0.00000000e+000\n",
      "   1.12818893e-081   0.00000000e+000   0.00000000e+000   0.00000000e+000\n",
      "   0.00000000e+000   4.17226342e-079   0.00000000e+000   0.00000000e+000\n",
      "   0.00000000e+000   0.00000000e+000   0.00000000e+000   0.00000000e+000\n",
      "   0.00000000e+000   0.00000000e+000   0.00000000e+000   0.00000000e+000\n",
      "   5.80616210e-311   0.00000000e+000   1.35193819e-155   0.00000000e+000\n",
      "   1.59626541e-305   0.00000000e+000   0.00000000e+000   0.00000000e+000\n",
      "   0.00000000e+000]\n",
      "(388376L, 41L)\n",
      "             precision    recall  f1-score   support\n",
      "\n",
      "        0.0       0.79      0.83      0.81     64915\n",
      "        1.0       0.62      0.55      0.58     32180\n",
      "\n",
      "avg / total       0.73      0.74      0.73     97095\n",
      "\n"
     ]
    }
   ],
   "source": [
    "from sklearn.feature_selection import SelectFwe\n",
    "from sklearn.feature_selection import chi2,f_classif\n",
    "\n",
    "model = SelectFwe(chi2, alpha=0.001).fit(x_train, y_train)\n",
    "\n",
    "print \"Scores\"\n",
    "print model.scores_ \n",
    "print \"Pvalues\"\n",
    "print model.pvalues_ \n",
    "\n",
    "x_train_selected =  model.transform(x_train)\n",
    "\n",
    "print x_train_selected.shape\n",
    "\n",
    "x_test_selected =  model.transform(x_test)\n",
    "\n",
    "# hipotese = linear_model.LogisticRegression(C=1e5)\n",
    "hipotese = tree.DecisionTreeClassifier(random_state=1234)\n",
    "# hipotese = ensemble.RandomForestClassifier(random_state=1234)\n",
    "# hipotese = svm.SVC()\n",
    "\n",
    "hipotese.fit(x_train_selected, y_train)\n",
    "y_true, y_pred = y_test, hipotese.predict(x_test_selected) # Get our predictions\n",
    "print(classification_report(y_true, y_pred)) # Classification on each digit\n"
   ]
  },
  {
   "cell_type": "markdown",
   "metadata": {},
   "source": [
    "SelectFdr\n",
    "-------\n",
    "### Filter: Select the p-values for an estimated false discovery rate <br/>\n",
    "### This uses the Benjamini-Hochberg procedure. `alpha` is an upper bound on the expected false discovery rate."
   ]
  },
  {
   "cell_type": "code",
   "execution_count": 34,
   "metadata": {
    "collapsed": false
   },
   "outputs": [
    {
     "name": "stdout",
     "output_type": "stream",
     "text": [
      "Scores\n",
      "[  2.48813908e+02   7.87559378e+01   1.44857603e+03   7.04695292e+01\n",
      "   8.43626811e+02   9.46497187e+02   1.34077011e+02   1.05899770e+03\n",
      "   5.73707629e+02   7.96595558e+02   1.90112017e+02   4.07692114e+02\n",
      "   2.57257414e+01   8.79517977e+01   1.86700852e+02   3.51098457e+03\n",
      "   3.66416782e+02   6.54319661e+03   3.45027584e+03   2.59248873e+03\n",
      "   3.55310722e+03   3.54623288e+02   4.23154521e+03   3.74444521e+03\n",
      "   1.87956167e+03   5.65882615e+06   2.84894703e+03   5.24720421e+03\n",
      "   6.05739875e+04   2.95700180e+03   3.23039997e+04   1.63879825e+03\n",
      "   1.42097800e+03   8.98072725e+03   7.06184020e+02   3.46894686e+03\n",
      "   1.39594723e+03   3.83441289e+03   5.15939866e+04   2.25674138e+03\n",
      "   2.90630196e+04]\n",
      "Pvalues\n",
      "[  4.70999932e-056   7.02771840e-019   0.00000000e+000   4.67430860e-017\n",
      "   1.76651431e-185   7.65896532e-208   5.25568103e-031   2.69559007e-232\n",
      "   8.76621651e-127   2.96653921e-175   3.00524783e-043   1.16546016e-090\n",
      "   3.93542719e-007   6.70691312e-021   1.66915331e-042   0.00000000e+000\n",
      "   1.12818893e-081   0.00000000e+000   0.00000000e+000   0.00000000e+000\n",
      "   0.00000000e+000   4.17226342e-079   0.00000000e+000   0.00000000e+000\n",
      "   0.00000000e+000   0.00000000e+000   0.00000000e+000   0.00000000e+000\n",
      "   0.00000000e+000   0.00000000e+000   0.00000000e+000   0.00000000e+000\n",
      "   5.80616210e-311   0.00000000e+000   1.35193819e-155   0.00000000e+000\n",
      "   1.59626541e-305   0.00000000e+000   0.00000000e+000   0.00000000e+000\n",
      "   0.00000000e+000]\n",
      "(388376L, 41L)\n",
      "             precision    recall  f1-score   support\n",
      "\n",
      "        0.0       0.79      0.83      0.81     64915\n",
      "        1.0       0.62      0.55      0.58     32180\n",
      "\n",
      "avg / total       0.73      0.74      0.73     97095\n",
      "\n"
     ]
    }
   ],
   "source": [
    "from sklearn.feature_selection import SelectFdr\n",
    "from sklearn.feature_selection import chi2,f_classif\n",
    "\n",
    "model = SelectFdr(chi2, alpha=0.001).fit(x_train, y_train)\n",
    "\n",
    "print \"Scores\"\n",
    "print model.scores_ \n",
    "print \"Pvalues\"\n",
    "print model.pvalues_ \n",
    "\n",
    "x_train_selected =  model.transform(x_train)\n",
    "\n",
    "print x_train_selected.shape\n",
    "\n",
    "x_test_selected =  model.transform(x_test)\n",
    "\n",
    "# hipotese = linear_model.LogisticRegression(C=1e5)\n",
    "hipotese = tree.DecisionTreeClassifier(random_state=1234)\n",
    "# hipotese = ensemble.RandomForestClassifier(random_state=1234)\n",
    "# hipotese = svm.SVC()\n",
    "\n",
    "hipotese.fit(x_train_selected, y_train)\n",
    "y_true, y_pred = y_test, hipotese.predict(x_test_selected) # Get our predictions\n",
    "print(classification_report(y_true, y_pred)) # Classification on each digit\n"
   ]
  },
  {
   "cell_type": "code",
   "execution_count": null,
   "metadata": {
    "collapsed": true
   },
   "outputs": [],
   "source": []
  },
  {
   "cell_type": "code",
   "execution_count": null,
   "metadata": {
    "collapsed": true
   },
   "outputs": [],
   "source": []
  }
 ],
 "metadata": {
  "kernelspec": {
   "display_name": "Python 2",
   "language": "python",
   "name": "python2"
  },
  "language_info": {
   "codemirror_mode": {
    "name": "ipython",
    "version": 2
   },
   "file_extension": ".py",
   "mimetype": "text/x-python",
   "name": "python",
   "nbconvert_exporter": "python",
   "pygments_lexer": "ipython2",
   "version": "2.7.11"
  }
 },
 "nbformat": 4,
 "nbformat_minor": 0
}
